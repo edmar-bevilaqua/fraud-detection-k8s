{
 "cells": [
  {
   "cell_type": "markdown",
   "id": "1d84c6e2",
   "metadata": {},
   "source": [
    "## Importing libraries:\n",
    "---"
   ]
  },
  {
   "cell_type": "code",
   "execution_count": null,
   "id": "9fb1c76f",
   "metadata": {},
   "outputs": [],
   "source": [
    "import os\n",
    "import zipfile\n",
    "import pandas as pd\n",
    "import requests\n",
    "\n",
    "DATA_DIR = \"../raw_data/\"\n",
    "ZIP_PATH = os.path.join(DATA_DIR, \"creditcardfraud.zip\")\n",
    "CSV_PATH = os.path.join(DATA_DIR, \"creditcard.csv\")"
   ]
  },
  {
   "cell_type": "code",
   "execution_count": null,
   "id": "7f436e38",
   "metadata": {},
   "outputs": [],
   "source": [
    "os.makedirs(DATA_DIR, exist_ok=True)\n",
    "\n",
    "if not os.path.exists(ZIP_PATH):\n",
    "    url = \"https://www.kaggle.com/api/v1/datasets/download/mlg-ulb/creditcardfraud\"\n",
    "    response = requests.get(url, stream=True)\n",
    "    if response.status_code == 200:\n",
    "        with open(ZIP_PATH, \"wb\") as f:\n",
    "            for chunk in response.iter_content(chunk_size=8192):\n",
    "                f.write(chunk)\n",
    "        print(\"Succesfully downloaded.\")\n",
    "    else:\n",
    "        print(f\"Failed to download the file. Status code: {response.status_code}\")\n",
    "\n",
    "if not os.path.exists(CSV_PATH) and os.path.exists(ZIP_PATH):\n",
    "    with zipfile.ZipFile(ZIP_PATH, \"r\") as zip_ref:\n",
    "        zip_ref.extractall(DATA_DIR)\n",
    "    print(\"Data extracted succesfully.\")\n",
    "\n",
    "if os.path.exists(CSV_PATH):\n",
    "    df = pd.read_csv(CSV_PATH)\n",
    "    print(\"DataFrame loaded succesfully.\")\n",
    "else:\n",
    "    print(\"CSV file not found.\")"
   ]
  },
  {
   "cell_type": "markdown",
   "id": "99d22f1b",
   "metadata": {},
   "source": [
    "To help understand the problems we are facing, the following image helps to determine the best metric to be used based on the problem we are solving:"
   ]
  },
  {
   "cell_type": "markdown",
   "id": "03dde6b5",
   "metadata": {},
   "source": [
    "![metrics.png](https://machinelearningmastery.com/wp-content/uploads/2019/12/How-to-Choose-a-Metric-for-Imbalanced-Classification-latest.png)\n",
    "\n",
    "source: [MachineLearningMastery](https://machinelearningmastery.com/tour-of-evaluation-metrics-for-imbalanced-classification/)"
   ]
  },
  {
   "cell_type": "code",
   "execution_count": null,
   "id": "15af3597",
   "metadata": {},
   "outputs": [],
   "source": [
    "df.head() # Display the first few rows of the DataFrame"
   ]
  },
  {
   "cell_type": "markdown",
   "id": "8f3ecb08",
   "metadata": {},
   "source": [
    "### Stratified splitting:\n",
    "---"
   ]
  },
  {
   "cell_type": "code",
   "execution_count": null,
   "id": "07b4c5d9",
   "metadata": {},
   "outputs": [],
   "source": [
    "# Split the DataFrame into features and target variable\n",
    "# 'Class' is the target variable indicating fraud (1) or not fraud (0)\n",
    "# The rest of the columns are features used for prediction\n",
    "X = df.drop('Class', axis=1)\n",
    "y = df['Class']"
   ]
  },
  {
   "cell_type": "code",
   "execution_count": null,
   "id": "17282e07",
   "metadata": {},
   "outputs": [],
   "source": [
    "from sklearn.model_selection import train_test_split\n",
    "X_train, X_test, y_train, y_test = train_test_split(X, y, stratify=y, test_size = 0.3, random_state = 42)"
   ]
  },
  {
   "cell_type": "markdown",
   "id": "2ca42818",
   "metadata": {},
   "source": [
    "### Oversample/undersample before or after splitting data?\n",
    "---\n",
    "Main rule: **Always** after."
   ]
  },
  {
   "cell_type": "code",
   "execution_count": null,
   "id": "c30aecfb",
   "metadata": {},
   "outputs": [],
   "source": []
  }
 ],
 "metadata": {
  "kernelspec": {
   "display_name": ".venv",
   "language": "python",
   "name": "python3"
  },
  "language_info": {
   "codemirror_mode": {
    "name": "ipython",
    "version": 3
   },
   "file_extension": ".py",
   "mimetype": "text/x-python",
   "name": "python",
   "nbconvert_exporter": "python",
   "pygments_lexer": "ipython3",
   "version": "3.12.3"
  }
 },
 "nbformat": 4,
 "nbformat_minor": 5
}
