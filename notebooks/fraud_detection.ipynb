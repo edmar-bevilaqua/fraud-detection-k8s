{
 "cells": [
  {
   "cell_type": "markdown",
   "id": "1d84c6e2",
   "metadata": {},
   "source": [
    "## Importing libraries:\n",
    "---"
   ]
  },
  {
   "cell_type": "code",
   "execution_count": null,
   "id": "9fb1c76f",
   "metadata": {},
   "outputs": [],
   "source": [
    "import os\n",
    "import zipfile\n",
    "import pandas as pd\n",
    "import requests\n",
    "\n",
    "DATA_DIR = \"../raw_data/\"\n",
    "ZIP_PATH = os.path.join(DATA_DIR, \"creditcardfraud.zip\")\n",
    "CSV_PATH = os.path.join(DATA_DIR, \"creditcard.csv\")"
   ]
  },
  {
   "cell_type": "code",
   "execution_count": null,
   "id": "7f436e38",
   "metadata": {},
   "outputs": [],
   "source": [
    "os.makedirs(DATA_DIR, exist_ok=True)\n",
    "\n",
    "if not os.path.exists(ZIP_PATH):\n",
    "    url = \"https://www.kaggle.com/api/v1/datasets/download/mlg-ulb/creditcardfraud\"\n",
    "    response = requests.get(url, stream=True)\n",
    "    if response.status_code == 200:\n",
    "        with open(ZIP_PATH, \"wb\") as f:\n",
    "            for chunk in response.iter_content(chunk_size=8192):\n",
    "                f.write(chunk)\n",
    "        print(\"Succesfully downloaded.\")\n",
    "    else:\n",
    "        print(f\"Failed to download the file. Status code: {response.status_code}\")\n",
    "\n",
    "if not os.path.exists(CSV_PATH) and os.path.exists(ZIP_PATH):\n",
    "    with zipfile.ZipFile(ZIP_PATH, \"r\") as zip_ref:\n",
    "        zip_ref.extractall(DATA_DIR)\n",
    "    print(\"Data extracted succesfully.\")\n",
    "\n",
    "if os.path.exists(CSV_PATH):\n",
    "    df = pd.read_csv(CSV_PATH)\n",
    "    print(\"DataFrame loaded succesfully.\")\n",
    "else:\n",
    "    print(\"CSV file not found.\")"
   ]
  },
  {
   "cell_type": "markdown",
   "id": "99d22f1b",
   "metadata": {},
   "source": [
    "To help understand the problems we are facing, the following image helps to determine the best metric to be used based on the problem we are solving:"
   ]
  },
  {
   "cell_type": "markdown",
   "id": "03dde6b5",
   "metadata": {},
   "source": [
    "![metrics.png](https://machinelearningmastery.com/wp-content/uploads/2019/12/How-to-Choose-a-Metric-for-Imbalanced-Classification-latest.png)\n",
    "\n",
    "source: [MachineLearningMastery](https://machinelearningmastery.com/tour-of-evaluation-metrics-for-imbalanced-classification/)"
   ]
  }
 ],
 "metadata": {
  "kernelspec": {
   "display_name": ".venv",
   "language": "python",
   "name": "python3"
  },
  "language_info": {
   "codemirror_mode": {
    "name": "ipython",
    "version": 3
   },
   "file_extension": ".py",
   "mimetype": "text/x-python",
   "name": "python",
   "nbconvert_exporter": "python",
   "pygments_lexer": "ipython3",
   "version": "3.12.3"
  }
 },
 "nbformat": 4,
 "nbformat_minor": 5
}
